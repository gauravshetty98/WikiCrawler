{
 "cells": [
  {
   "cell_type": "code",
   "execution_count": null,
   "metadata": {},
   "outputs": [],
   "source": [
    "import nltk\n",
    "from nltk.corpus import stopwords\n",
    "from nltk.tokenize import word_tokenize \n",
    "from nltk.sentiment.vader import SentimentIntensityAnalyzer\n",
    "import import_ipynb\n",
    "import WikiCrawler as wk\n",
    "import DataCleaner as dc\n",
    "import pandas as pd\n",
    "from bs4 import BeautifulSoup"
   ]
  },
  {
   "cell_type": "code",
   "execution_count": null,
   "metadata": {},
   "outputs": [],
   "source": [
    "nltk.download('vader_lexicon')\n",
    "nltk.download('stopwords')"
   ]
  },
  {
   "cell_type": "code",
   "execution_count": null,
   "metadata": {},
   "outputs": [],
   "source": [
    "analyzer = SentimentIntensityAnalyzer()\n",
    "url = \"https://en.wikipedia.org/wiki/Black_Death\""
   ]
  },
  {
   "cell_type": "code",
   "execution_count": null,
   "metadata": {},
   "outputs": [],
   "source": [
    "def sentimentAnalyzerScore(text):\n",
    "    score = analyzer.polarity_scores(text)\n",
    "    return score"
   ]
  },
  {
   "cell_type": "code",
   "execution_count": null,
   "metadata": {},
   "outputs": [],
   "source": [
    "def textMiner(url):\n",
    "    response = wk.initResp(url)\n",
    "    soup = BeautifulSoup(response.content, 'html.parser')\n",
    "    title = wk.titleExtractor(soup)\n",
    "    context = wk.contextExtractor(soup)\n",
    "    wikiPageData = pd.DataFrame([[title,context]])\n",
    "    dc.lowerOnly(wikiPageData)\n",
    "    dc.alphaCharOnly(wikiPageData)\n",
    "    return wikiPageData"
   ]
  },
  {
   "cell_type": "code",
   "execution_count": null,
   "metadata": {},
   "outputs": [],
   "source": [
    "def stopWordDel(sentence):\n",
    "    stop_words = set(stopwords.words('english'))\n",
    "    filteredSent = \" \"\n",
    "    pageWord = sentence.split()\n",
    "    for r in pageWord:\n",
    "        if not r in stop_words:\n",
    "            filteredSent = filteredSent + \" \" + r\n",
    "    return filteredSent\n"
   ]
  },
  {
   "cell_type": "code",
   "execution_count": null,
   "metadata": {},
   "outputs": [],
   "source": [
    "def getPageSentiment(url):\n",
    "    df = textMiner(url)\n",
    "    text = stopWordDel(df.loc[0,1])\n",
    "    score = sentimentAnalyzerScore(text)\n",
    "    return score"
   ]
  },
  {
   "cell_type": "code",
   "execution_count": null,
   "metadata": {},
   "outputs": [],
   "source": [
    "print(getPageSentiment(url))"
   ]
  }
 ],
 "metadata": {
  "kernelspec": {
   "display_name": "Python 3",
   "language": "python",
   "name": "python3"
  },
  "language_info": {
   "codemirror_mode": {
    "name": "ipython",
    "version": 3
   },
   "file_extension": ".py",
   "mimetype": "text/x-python",
   "name": "python",
   "nbconvert_exporter": "python",
   "pygments_lexer": "ipython3",
   "version": "3.7.6"
  }
 },
 "nbformat": 4,
 "nbformat_minor": 4
}
