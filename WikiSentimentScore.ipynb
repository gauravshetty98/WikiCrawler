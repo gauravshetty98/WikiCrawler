{
 "cells": [
  {
   "cell_type": "code",
   "execution_count": 1,
   "metadata": {},
   "outputs": [
    {
     "name": "stdout",
     "output_type": "stream",
     "text": [
      "importing Jupyter notebook from WikiCrawler.ipynb\n",
      "importing Jupyter notebook from DataCleaner.ipynb\n"
     ]
    }
   ],
   "source": [
    "import nltk\n",
    "from nltk.corpus import stopwords\n",
    "from nltk.tokenize import word_tokenize \n",
    "from nltk.sentiment.vader import SentimentIntensityAnalyzer\n",
    "import import_ipynb\n",
    "import WikiCrawler as wk\n",
    "import DataCleaner as dc\n",
    "import pandas as pd\n",
    "from bs4 import BeautifulSoup"
   ]
  },
  {
   "cell_type": "code",
   "execution_count": 2,
   "metadata": {},
   "outputs": [
    {
     "name": "stderr",
     "output_type": "stream",
     "text": [
      "[nltk_data] Downloading package vader_lexicon to\n",
      "[nltk_data]     C:\\Users\\gaura\\AppData\\Roaming\\nltk_data...\n",
      "[nltk_data]   Package vader_lexicon is already up-to-date!\n",
      "[nltk_data] Downloading package stopwords to\n",
      "[nltk_data]     C:\\Users\\gaura\\AppData\\Roaming\\nltk_data...\n",
      "[nltk_data]   Package stopwords is already up-to-date!\n"
     ]
    },
    {
     "data": {
      "text/plain": [
       "True"
      ]
     },
     "execution_count": 2,
     "metadata": {},
     "output_type": "execute_result"
    }
   ],
   "source": [
    "nltk.download('vader_lexicon')\n",
    "nltk.download('stopwords')"
   ]
  },
  {
   "cell_type": "code",
   "execution_count": 3,
   "metadata": {},
   "outputs": [],
   "source": [
    "analyzer = SentimentIntensityAnalyzer()\n",
    "url = \"https://en.wikipedia.org/wiki/2019\""
   ]
  },
  {
   "cell_type": "markdown",
   "metadata": {},
   "source": [
    "SentimentAnalyzerScore returns the sentiment score of the text."
   ]
  },
  {
   "cell_type": "code",
   "execution_count": 4,
   "metadata": {},
   "outputs": [],
   "source": [
    "def sentimentAnalyzerScore(text):\n",
    "    score = analyzer.polarity_scores(text)\n",
    "    return score"
   ]
  },
  {
   "cell_type": "markdown",
   "metadata": {},
   "source": [
    "textMiner extracts the title and context from the Wikipedia page and stores it in a dataframe."
   ]
  },
  {
   "cell_type": "code",
   "execution_count": 5,
   "metadata": {},
   "outputs": [],
   "source": [
    "def textMiner(url):\n",
    "    response = wk.initResp(url)\n",
    "    soup = BeautifulSoup(response.content, 'html.parser')\n",
    "    title = wk.titleExtractor(soup)\n",
    "    context = wk.contextExtractor(soup)\n",
    "    wikiPageData = pd.DataFrame([[title,context]])\n",
    "    dc.lowerOnly(wikiPageData)\n",
    "    dc.alphaCharOnly(wikiPageData)\n",
    "    return wikiPageData"
   ]
  },
  {
   "cell_type": "markdown",
   "metadata": {},
   "source": [
    "stopWordDel removes all the stopwords from a given sentence and returns a filtered sentence."
   ]
  },
  {
   "cell_type": "code",
   "execution_count": 6,
   "metadata": {},
   "outputs": [],
   "source": [
    "def stopWordDel(sentence):\n",
    "    stop_words = set(stopwords.words('english'))\n",
    "    filteredSent = \" \"\n",
    "    pageWord = sentence.split()\n",
    "    for r in pageWord:\n",
    "        if not r in stop_words:\n",
    "            filteredSent = filteredSent + \" \" + r\n",
    "    return filteredSent\n"
   ]
  },
  {
   "cell_type": "markdown",
   "metadata": {},
   "source": [
    "getPageSentiment combines all three functions and returns the sentiment score of the passed Wikipedia page url."
   ]
  },
  {
   "cell_type": "code",
   "execution_count": 7,
   "metadata": {},
   "outputs": [],
   "source": [
    "def getPageSentiment(url):\n",
    "    df = textMiner(url)\n",
    "    text = stopWordDel(df.loc[0,1])\n",
    "    score = sentimentAnalyzerScore(text)\n",
    "    return score"
   ]
  },
  {
   "cell_type": "code",
   "execution_count": 18,
   "metadata": {},
   "outputs": [
    {
     "name": "stdout",
     "output_type": "stream",
     "text": [
      "{'neg': 0.158, 'neu': 0.779, 'pos': 0.062, 'compound': -0.9999}  title:    black death wikipedia\n",
      "{'neg': 0.084, 'neu': 0.828, 'pos': 0.088, 'compound': -0.1082}  title:    independence day india wikipedia\n",
      "{'neg': 0.057, 'neu': 0.848, 'pos': 0.095, 'compound': 0.9988}  title:    mona lisa wikipedia\n"
     ]
    }
   ],
   "source": [
    "print(getPageSentiment(url = \"https://en.wikipedia.org/wiki/Black_Death\") , \n",
    "      \" title: \", textMiner(\"https://en.wikipedia.org/wiki/Black_Death\").iloc[0,0])\n",
    "\n",
    "print(getPageSentiment(url = \"https://en.wikipedia.org/wiki/Independence_Day_(India)\") , \n",
    "      \" title: \", textMiner(\"https://en.wikipedia.org/wiki/Independence_Day_(India)\").iloc[0,0])\n",
    "\n",
    "print(getPageSentiment(url = \"https://en.wikipedia.org/wiki/Mona_Lisa\") , \n",
    "      \" title: \", textMiner(\"https://en.wikipedia.org/wiki/Mona_Lisa\").iloc[0,0])\n"
   ]
  },
  {
   "cell_type": "code",
   "execution_count": null,
   "metadata": {},
   "outputs": [],
   "source": []
  }
 ],
 "metadata": {
  "kernelspec": {
   "display_name": "Python 3",
   "language": "python",
   "name": "python3"
  },
  "language_info": {
   "codemirror_mode": {
    "name": "ipython",
    "version": 3
   },
   "file_extension": ".py",
   "mimetype": "text/x-python",
   "name": "python",
   "nbconvert_exporter": "python",
   "pygments_lexer": "ipython3",
   "version": "3.7.6"
  }
 },
 "nbformat": 4,
 "nbformat_minor": 4
}
