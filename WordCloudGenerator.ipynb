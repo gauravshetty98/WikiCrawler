{
 "cells": [
  {
   "cell_type": "markdown",
   "metadata": {},
   "source": [
    "# Creating a WordCloud"
   ]
  },
  {
   "cell_type": "markdown",
   "metadata": {},
   "source": [
    "Wordcloud is a collection, or cluster, of words depicted in different sizes. The bigger and bolder the word appears, the more often it’s mentioned within a given text and the more important it is. Wordcloud is a useful and easy to read graphical representation of textual data. We use these wordclouds to perform better analysis and to get a better idea about the topic in focus."
   ]
  },
  {
   "cell_type": "markdown",
   "metadata": {},
   "source": [
    "### Importing the Libraries:"
   ]
  },
  {
   "cell_type": "markdown",
   "metadata": {},
   "source": [
    "We start of with importing all the important libraries required for creating a wordcloud."
   ]
  },
  {
   "cell_type": "code",
   "execution_count": 1,
   "metadata": {},
   "outputs": [
    {
     "name": "stdout",
     "output_type": "stream",
     "text": [
      "importing Jupyter notebook from DataCleaner.ipynb\n"
     ]
    }
   ],
   "source": [
    "from wordcloud import WordCloud,STOPWORDS\n",
    "import matplotlib.pyplot as plt\n",
    "import pandas as pd\n",
    "import import_ipynb\n",
    "import DataCleaner as dc\n",
    "%matplotlib inline"
   ]
  },
  {
   "cell_type": "markdown",
   "metadata": {},
   "source": [
    "### Creating and Storing the wordcloud"
   ]
  },
  {
   "cell_type": "markdown",
   "metadata": {},
   "source": [
    "Defining a plot function to plot the word cloud."
   ]
  },
  {
   "cell_type": "code",
   "execution_count": 4,
   "metadata": {},
   "outputs": [],
   "source": [
    "def plot_cloud(wordcloud):\n",
    "    # Set figure size\n",
    "    plt.figure(figsize=(40, 30))\n",
    "    # Display image\n",
    "    plt.imshow(wordcloud) \n",
    "    # No axis details\n",
    "    plt.axis(\"off\");"
   ]
  },
  {
   "cell_type": "markdown",
   "metadata": {},
   "source": [
    "We generate a wordcloud for each topic extracted from the wikipedia page and store it in a pandas dataFrame. This dataFrame contains 100 wordclouds and their respective topic titles."
   ]
  },
  {
   "cell_type": "code",
   "execution_count": 6,
   "metadata": {},
   "outputs": [],
   "source": [
    "def wordCloudStore(cleanData):\n",
    "    cloudStore = pd.DataFrame()\n",
    "    for i in range (0,99):\n",
    "        #print(i)\n",
    "        title= cleanData.iloc[i,0]\n",
    "        if(len(cleanData.iloc[i,1].split())==0):\n",
    "            cleanData.at[i,1]=\"None None None\"\n",
    "        word = WordCloud(width = 3000, height = 2000, random_state=1, \n",
    "                                      background_color='salmon', colormap='Pastel1', collocations=False, \n",
    "                                      stopwords = STOPWORDS).generate(cleanData.iloc[i,1])\n",
    "        cloudStore = cloudStore.append({0:title, 1:word}, ignore_index = True)\n",
    "    return cloudStore"
   ]
  }
 ],
 "metadata": {
  "kernelspec": {
   "display_name": "Python 3",
   "language": "python",
   "name": "python3"
  },
  "language_info": {
   "codemirror_mode": {
    "name": "ipython",
    "version": 3
   },
   "file_extension": ".py",
   "mimetype": "text/x-python",
   "name": "python",
   "nbconvert_exporter": "python",
   "pygments_lexer": "ipython3",
   "version": "3.7.6"
  }
 },
 "nbformat": 4,
 "nbformat_minor": 4
}
