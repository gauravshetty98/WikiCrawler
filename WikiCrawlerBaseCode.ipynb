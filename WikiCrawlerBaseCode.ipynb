{
 "cells": [
  {
   "cell_type": "code",
   "execution_count": 1,
   "metadata": {},
   "outputs": [],
   "source": [
    "import requests\n",
    "from bs4 import BeautifulSoup\n",
    "import random\n",
    "import pandas as pd\n",
    "import time\n",
    "import csv"
   ]
  },
  {
   "cell_type": "code",
   "execution_count": 28,
   "metadata": {},
   "outputs": [],
   "source": [
    "count = 0\n",
    "totalPages = 10\n",
    "\n",
    "def initResp(url):\n",
    "    response = requests.get(url)\n",
    "    return response\n",
    "\n",
    "def writeCSV(title, para):\n",
    "    with open('modularise_try', 'a', newline='', encoding='utf-8') as file:\n",
    "            writer = csv.writer(file, delimiter = ',')\n",
    "            field = [ ''+title.string , ''+para]\n",
    "            writer.writerow(field)\n",
    "            \n",
    "def titleExtractor(soup):\n",
    "    title = soup.find('title')\n",
    "    return title.string\n",
    "\n",
    "def contextExtractor(soup):\n",
    "    context = \" \"\n",
    "    for i in soup.select('p'):\n",
    "        context = context + i.getText()\n",
    "    return context\n",
    "\n",
    "def nextLink(soup):\n",
    "    allLinks = soup.find(id=\"bodyContent\").find_all(\"a\",href =True)\n",
    "    random.shuffle(allLinks)\n",
    "    linkToScrape = 0  \n",
    "    \n",
    "    for link in allLinks:\n",
    "        # We are only interested in other wiki articles\n",
    "        #print('before loop 1: '+str(link['href']))\n",
    "        \n",
    "        if link['href'].find(\"/wiki/\") == -1:\n",
    "            #print('c')\n",
    "            continue\n",
    "\n",
    "        # Use this link to scrape\n",
    "        #print('before loop 2: '+link['href'])\n",
    "        \n",
    "        if link['href'].find(\".org\") == -1:\n",
    "            linkToScrape = link\n",
    "            #print('b')\n",
    "            break\n",
    "    return linkToScrape"
   ]
  },
  {
   "cell_type": "code",
   "execution_count": null,
   "metadata": {
    "scrolled": true
   },
   "outputs": [],
   "source": [
    "def scrape(url):\n",
    "    \n",
    "    global count\n",
    "    count = count+1\n",
    "    \n",
    "    global totalPages\n",
    "    \n",
    "    response=initResp(url)\n",
    "    \n",
    "    soup = BeautifulSoup(response.content, 'html.parser')\n",
    "    \n",
    "    title = titleExtractor(soup)\n",
    "    #print(title)\n",
    "    \n",
    "    context = contextExtractor(soup)\n",
    "    #print(context)\n",
    "    \n",
    "    writeCSV(title,context)\n",
    "    \n",
    "    linkToScrape = nextLink(soup)\n",
    "    \n",
    "    #print(\"Current Link cout: \" , count)\n",
    "    #print('Next Link href: '+ str(linkToScrape['href']))\n",
    "    \n",
    "    time.sleep(7)\n",
    "    \n",
    "    if(count<totalPages):\n",
    "        scrape(\"https://en.wikipedia.org\" + str(linkToScrape['href']))\n",
    "    \n",
    "scrape(\"https://en.wikipedia.org/wiki/Web_scraping\")\n"
   ]
  },
  {
   "cell_type": "code",
   "execution_count": null,
   "metadata": {},
   "outputs": [],
   "source": []
  }
 ],
 "metadata": {
  "kernelspec": {
   "display_name": "Python 3",
   "language": "python",
   "name": "python3"
  },
  "language_info": {
   "codemirror_mode": {
    "name": "ipython",
    "version": 3
   },
   "file_extension": ".py",
   "mimetype": "text/x-python",
   "name": "python",
   "nbconvert_exporter": "python",
   "pygments_lexer": "ipython3",
   "version": "3.7.6"
  }
 },
 "nbformat": 4,
 "nbformat_minor": 4
}
