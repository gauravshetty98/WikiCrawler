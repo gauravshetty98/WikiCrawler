{
 "cells": [
  {
   "cell_type": "code",
   "execution_count": 2,
   "metadata": {},
   "outputs": [],
   "source": [
    "import requests\n",
    "from bs4 import BeautifulSoup\n",
    "import random\n",
    "import pandas as pd\n",
    "import time\n",
    "import csv"
   ]
  },
  {
   "cell_type": "code",
   "execution_count": null,
   "metadata": {},
   "outputs": [],
   "source": [
    "def scrape(url, count ):\n",
    "    \n",
    "    count=count+1\n",
    "    \n",
    "    response = requests.get(\n",
    "    url\n",
    "    )\n",
    "    \n",
    "    soup = BeautifulSoup(response.content, 'html.parser')\n",
    "    title = soup.find('title')\n",
    "    print(title.string)\n",
    "    \n",
    "    for i in soup.select('p'):\n",
    "        with open('WikiContent', 'a', newline='', encoding='utf-8') as file:\n",
    "            writer = csv.writer(file, delimiter = ',')\n",
    "            field = [ ''+title.string , ''+i.getText()]\n",
    "            writer.writerow(field)\n",
    "        \n",
    "    \n",
    "    allLinks = soup.find(id=\"bodyContent\").find_all(\"a\",href =True)\n",
    "    random.shuffle(allLinks)\n",
    "    linkToScrape = 0\n",
    "    #print(\"lenght : \",len(allLinks))\n",
    "    \n",
    "    \n",
    "    for link in allLinks:\n",
    "        # We are only interested in other wiki articles\n",
    "        #print('before loop 1: '+str(link['href']))\n",
    "        if link['href'].find(\"/wiki/\") == -1:\n",
    "            print('c')\n",
    "            continue\n",
    "\n",
    "        # Use this link to scrape\n",
    "        #print('before loop 2: '+link['href'])\n",
    "        if link['href'].find(\".org\") == -1:\n",
    "            linkToScrape = link\n",
    "            print('b')\n",
    "            break\n",
    "    \n",
    "    \n",
    "    #print(count)\n",
    "    #print('next href: '+ str(linkToScrape['href']))\n",
    "    time.sleep(7)\n",
    "    if(count<100):\n",
    "        scrape(\"https://en.wikipedia.org\" + str(linkToScrape['href']) , count)\n",
    "    \n",
    "scrape(\"https://en.wikipedia.org/wiki/Web_scraping\" , 0)\n"
   ]
  }
 ],
 "metadata": {
  "kernelspec": {
   "display_name": "Python 3",
   "language": "python",
   "name": "python3"
  },
  "language_info": {
   "codemirror_mode": {
    "name": "ipython",
    "version": 3
   },
   "file_extension": ".py",
   "mimetype": "text/x-python",
   "name": "python",
   "nbconvert_exporter": "python",
   "pygments_lexer": "ipython3",
   "version": "3.7.6"
  }
 },
 "nbformat": 4,
 "nbformat_minor": 4
}
