{
 "cells": [
  {
   "cell_type": "code",
   "execution_count": 19,
   "metadata": {},
   "outputs": [],
   "source": [
    "import nltk\n",
    "from nltk.corpus import stopwords\n",
    "from nltk.tokenize import word_tokenize \n",
    "from nltk.sentiment.vader import SentimentIntensityAnalyzer\n",
    "import import_ipynb\n",
    "import WikiCrawler as wk\n",
    "import DataCleaner as dc\n",
    "import pandas as pd\n",
    "from bs4 import BeautifulSoup"
   ]
  },
  {
   "cell_type": "code",
   "execution_count": 20,
   "metadata": {},
   "outputs": [
    {
     "name": "stderr",
     "output_type": "stream",
     "text": [
      "[nltk_data] Downloading package vader_lexicon to\n",
      "[nltk_data]     C:\\Users\\gaura\\AppData\\Roaming\\nltk_data...\n",
      "[nltk_data]   Package vader_lexicon is already up-to-date!\n",
      "[nltk_data] Downloading package stopwords to\n",
      "[nltk_data]     C:\\Users\\gaura\\AppData\\Roaming\\nltk_data...\n",
      "[nltk_data]   Package stopwords is already up-to-date!\n",
      "[nltk_data] Downloading package punkt to\n",
      "[nltk_data]     C:\\Users\\gaura\\AppData\\Roaming\\nltk_data...\n",
      "[nltk_data]   Package punkt is already up-to-date!\n"
     ]
    },
    {
     "data": {
      "text/plain": [
       "True"
      ]
     },
     "execution_count": 20,
     "metadata": {},
     "output_type": "execute_result"
    }
   ],
   "source": [
    "nltk.download('vader_lexicon')\n",
    "nltk.download('stopwords')\n",
    "nltk.download('punkt')"
   ]
  },
  {
   "cell_type": "code",
   "execution_count": 21,
   "metadata": {},
   "outputs": [],
   "source": [
    "analyzer = SentimentIntensityAnalyzer()\n",
    "#url = \"https://en.wikipedia.org/wiki/2019\""
   ]
  },
  {
   "cell_type": "markdown",
   "metadata": {},
   "source": [
    "SentimentAnalyzerScore returns the sentiment score of the text."
   ]
  },
  {
   "cell_type": "code",
   "execution_count": 22,
   "metadata": {},
   "outputs": [],
   "source": [
    "def sentimentAnalyzerScore(text):\n",
    "    score = analyzer.polarity_scores(text)\n",
    "    return score"
   ]
  },
  {
   "cell_type": "markdown",
   "metadata": {},
   "source": [
    "textMiner extracts the title and context from the Wikipedia page and stores it in a dataframe."
   ]
  },
  {
   "cell_type": "code",
   "execution_count": 23,
   "metadata": {},
   "outputs": [],
   "source": [
    "def textMiner(url):\n",
    "    response = wk.initResp(url)\n",
    "    soup = BeautifulSoup(response.content, 'html.parser')\n",
    "    title = wk.titleExtractor(soup)\n",
    "    context = wk.contextExtractor(soup)\n",
    "    wikiPageData = pd.DataFrame([[title,context]])\n",
    "    dc.lowerOnly(wikiPageData)\n",
    "    dc.alphaCharOnly(wikiPageData)\n",
    "    return wikiPageData"
   ]
  },
  {
   "cell_type": "markdown",
   "metadata": {},
   "source": [
    "stopWordDel removes all the stopwords from a given sentence and returns a filtered sentence."
   ]
  },
  {
   "cell_type": "code",
   "execution_count": 24,
   "metadata": {},
   "outputs": [],
   "source": [
    "def stopWordDel(sentence):\n",
    "    stop_words = set(stopwords.words('english'))\n",
    "    filteredSent = \" \"\n",
    "    pageWord = sentence.split()\n",
    "    for r in pageWord:\n",
    "        if not r in stop_words:\n",
    "            filteredSent = filteredSent + \" \" + r\n",
    "    return filteredSent\n"
   ]
  },
  {
   "cell_type": "markdown",
   "metadata": {},
   "source": [
    "posNegWordList() is a function that prints the top 10 positive and negative words in the text passed to it."
   ]
  },
  {
   "cell_type": "code",
   "execution_count": 30,
   "metadata": {},
   "outputs": [],
   "source": [
    "def posNegWordList(sentence):\n",
    "    wordList = pd.DataFrame(columns=['word','score'])\n",
    "    allWords = sentence.split()\n",
    "    for j in allWords:\n",
    "        if not j in list(wordList.iloc[:,0]):\n",
    "            wordList = wordList.append({'word':j,'score':sentimentAnalyzerScore(j)['compound']} , ignore_index=True)\n",
    "    wordList.sort_values(by=['score'] , inplace=True)\n",
    "    print(\"\\nNegative Words: \",\"\\n\", list(wordList.iloc[0:10,0]))\n",
    "    print(\"\\nPositive Words: \",\"\\n\",list(wordList.iloc[-10:-1,0]))"
   ]
  },
  {
   "cell_type": "markdown",
   "metadata": {},
   "source": [
    "posNegSentList() is a function that prints the top 10 postive and negative sentences in the text passed to it."
   ]
  },
  {
   "cell_type": "code",
   "execution_count": 31,
   "metadata": {},
   "outputs": [],
   "source": [
    "def posNegSentList(sentence):\n",
    "    sentList = pd.DataFrame(columns=['sentence','score'])\n",
    "    allSent = nltk.tokenize.sent_tokenize(sentence)\n",
    "    for s in allSent:\n",
    "        if not s in list(sentList.iloc[:,0]):\n",
    "            sentList = sentList.append({'sentence':s , 'score':sentimentAnalyzerScore(s)['compound']}, ignore_index=True)\n",
    "    sentList.sort_values(by=['score'] , inplace=True)\n",
    "    print(\"\\nNegative Sentences: \", \"\\n\", list(sentList.iloc[0:5,0]))\n",
    "    print(\"\\nPositive Sentences: \",\"\\n\", list(sentList.iloc[-5:-1,0]))"
   ]
  },
  {
   "cell_type": "markdown",
   "metadata": {},
   "source": [
    "getPageSentiment combines all three functions and returns the sentiment score of the passed Wikipedia page url."
   ]
  },
  {
   "cell_type": "code",
   "execution_count": 32,
   "metadata": {},
   "outputs": [],
   "source": [
    "def getPageSentiment(url):\n",
    "    df = textMiner(url)\n",
    "    text = stopWordDel(df.loc[0,1])\n",
    "    posNegWordList(text)\n",
    "    posNegSentList(text)\n",
    "    score = sentimentAnalyzerScore(text)\n",
    "    return score"
   ]
  },
  {
   "cell_type": "markdown",
   "metadata": {},
   "source": [
    "Here we have done the analysis of three different wikipedia pages. \n",
    "<br><br>\n",
    "The first topic was  black death. It got a compound score of -0.9999. The sentiment score is as expected as the topic is related to a plague which killed 25 million people. The top negative words and positive words are printed along with the top negative sentences and positive sentences.\n",
    "<br><br>\n",
    "The next topic was the Indian Independence day. It got a compound sentiment score of 0.7893. It can be said that the page has a neutral sentiment, neither positive nor negative.\n",
    "<br><br>\n",
    "The next topic was Mona Lisa. It got a compound sentiment score of 0.9986. The wikipedia page has a overall positive sentiment according to the score given."
   ]
  },
  {
   "cell_type": "code",
   "execution_count": 33,
   "metadata": {},
   "outputs": [
    {
     "name": "stdout",
     "output_type": "stream",
     "text": [
      "\n",
      "Negative Words:  \n",
      " ['killed', 'fatality', 'killing', 'murdered.', 'dead.', 'dead', 'crisis.', 'disaster', 'worst', 'devastated']\n",
      "\n",
      "Positive Words:  \n",
      " ['survived.', 'winning', 'divine', 'remarkable', 'great.', 'great', '143', 'paradise.', 'best']\n",
      "\n",
      "Negative Sentences:  \n",
      " ['71 ... length came gloucester yea even oxford london finally spread england wasted people scarce tenth person sort left alive.geoffrey baker chronicon angliae 72 plague reportedly first introduced europe via genoese traders port city kaffa crimea 1347. protracted siege city 1345 1346 mongol golden horde army jani beg whose mainly tatar troops suffering disease catapulted infected corpses city walls kaffa infect inhabitants 73 though likely infected rats travelled across siege lines spread epidemic inhabitants.', 'one wept death awaited death.', '113 first outbreak two thirds population contracted illness patients died next half population became ill died third tenth affected many survived fourth occurrence one twenty people sickened survived.', 'research 2018 challenged popular hypothesis infected rats died flea parasites could jumped recently dead rat hosts humans .', 'lodewijk heyligen whose master cardinal colonna died plague 1348 noted distinct form disease pneumonic plague infected lungs led respiratory problems.']\n",
      "\n",
      "Positive Sentences:  \n",
      " ['13 english prior 18th century event called pestilence great pestilence plague great death .', '58 although academic debate continues single alternative solution achieved widespread acceptance.', '125 period many jews relocated poland received warm welcome king casimir great.', '35 muslim religious scholars taught pandemic martyrdom mercy god assuring believer place paradise.']\n",
      "title:    black death - wikipedia  \n",
      " score: {'neg': 0.157, 'neu': 0.782, 'pos': 0.061, 'compound': -0.9999} \n",
      "\n",
      "\n",
      "Negative Words:  \n",
      " ['terrorist', 'violence.', 'violence', 'violent', 'war', 'died', 'fired', 'riots', 'collapse', 'troubled']\n",
      "\n",
      "Positive Words:  \n",
      " ['prize', 'encouraging', 'peace', 'celebrated', 'celebrating', 'celebrates', 'celebrate', 'honour', 'freedom']\n",
      "\n",
      "Negative Sentences:  \n",
      " ['independence coincided partition india british india divided along religious lines dominions india pakistan partition accompanied violent riots mass casualties displacement nearly 15 million people due religious violence.', '42 43 44 terrorist groups lashkar-e-taiba hizbul mujahideen jaish-e-mohammed issued threats carried attacks around independence day.', '39 separatist protests region intensified 1980s calls boycotts terrorist attacks insurgent organisations united liberation front assam national democratic front bodoland marred celebrations.', '250 000 1 000 000 people sides new borders died violence.', '46 47 anticipation terrorist attacks particularly militants security measures intensified especially major cities delhi mumbai troubled states jammu kashmir.']\n",
      "\n",
      "Positive Sentences:  \n",
      " ['59 independence partition inspired literary artistic creations.', '61 62 salman rushdie novel midnight children 1980 booker prize booker bookers wove narrative around children born midnight 14 15 august 1947 magical abilities.', 'instead marked day 24-hour fast spoke crowd calcutta encouraging peace hindus muslims.', 'indian independence act 1947 10 11 geo 6 c. 30 parliament united kingdom partitioned british india two new independent dominions india pakistan including bangladesh effect 15 august 1947 granted complete legislative authority upon respective constituent assemblies new countries.']\n",
      "title:    independence day india - wikipedia  \n",
      " score: {'neg': 0.08, 'neu': 0.832, 'pos': 0.088, 'compound': 0.7893} \n",
      "\n",
      "\n",
      "Negative Words:  \n",
      " ['dead', 'war', 'death', 'death.', 'distraught', 'crime', 'ass', 'painfully.', 'prison', 'failure']\n",
      "\n",
      "Positive Words:  \n",
      " ['happy', 'celebrate', 'celebrated', 'beauty', 'adoration', 'great', 'masterpiece', '143', 'best']\n",
      "\n",
      "Negative Sentences:  \n",
      " ['86 2 august 2009 russian woman distraught denied french citizenship threw ceramic teacup purchased louvre vessel shattered glass enclosure.', 'french poet guillaume apollinaire came suspicion arrested imprisoned.', 'one moved troubled ... repressed desires hopes drive one despair stir painfully.', 'walter pater famous essay 1869 described sitter older rocks among sits like vampire dead many times learned secrets grave diver deep seas keeps fallen day her.', '68 number experts argued leonardo made two versions uncertainty concerning dating commissioner well fate following leonardo death 1519 difference details raphael sketch may explained possibility made sketch memory .']\n",
      "\n",
      "Positive Sentences:  \n",
      " ['109 early commentators vasari andr f libien praised picture realism victorian era writers began regard mona lisa imbued sense mystery romance.', '96 mona lisa survived 500 years international commission convened 1952 noted picture remarkable state preservation.', 'considered archetypal masterpiece italian renaissance 4 5 described best known visited written sung parodied work art world .', 'example leonardo probably painted model faithfully since beauty seen among best even measured late quattrocento 15th century even twenty-first century standards.']\n",
      "title:    mona lisa - wikipedia  \n",
      " score: {'neg': 0.057, 'neu': 0.85, 'pos': 0.093, 'compound': 0.9986} \n",
      "\n"
     ]
    }
   ],
   "source": [
    "print(\"title: \", textMiner(\"https://en.wikipedia.org/wiki/Black_Death\").iloc[0,0],\" \\n score:\",\n",
    "    getPageSentiment(url = \"https://en.wikipedia.org/wiki/Black_Death\"),\"\\n\")\n",
    "\n",
    "print( \"title: \", textMiner(\"https://en.wikipedia.org/wiki/Independence_Day_(India)\").iloc[0,0],\" \\n score:\",\n",
    "      getPageSentiment(url = \"https://en.wikipedia.org/wiki/Independence_Day_(India)\"),\"\\n\")\n",
    "\n",
    "print(\"title: \", textMiner(\"https://en.wikipedia.org/wiki/Mona_Lisa\").iloc[0,0],\" \\n score:\",\n",
    "    getPageSentiment(url = \"https://en.wikipedia.org/wiki/Mona_Lisa\"),\"\\n\")\n"
   ]
  }
 ],
 "metadata": {
  "kernelspec": {
   "display_name": "Python 3",
   "language": "python",
   "name": "python3"
  },
  "language_info": {
   "codemirror_mode": {
    "name": "ipython",
    "version": 3
   },
   "file_extension": ".py",
   "mimetype": "text/x-python",
   "name": "python",
   "nbconvert_exporter": "python",
   "pygments_lexer": "ipython3",
   "version": "3.7.6"
  }
 },
 "nbformat": 4,
 "nbformat_minor": 4
}
