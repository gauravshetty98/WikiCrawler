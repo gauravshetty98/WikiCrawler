{
 "cells": [
  {
   "cell_type": "markdown",
   "metadata": {},
   "source": [
    "# Word2Vec embedding technique"
   ]
  },
  {
   "cell_type": "markdown",
   "metadata": {},
   "source": [
    "Word2Vec is one of the most popular technique to learn word embeddings using shallow neural network. They try to create vector representations of each word in a given document. If we plot these vector representations on a graph, words with similar meaning will appear closer to each other. "
   ]
  },
  {
   "cell_type": "markdown",
   "metadata": {},
   "source": [
    "### Importing the libraries:"
   ]
  },
  {
   "cell_type": "markdown",
   "metadata": {},
   "source": [
    "We start off with importing the necessary libraries required for computing the word2vec computations. We mainly make use of the nltk and gensim library to achieve this."
   ]
  },
  {
   "cell_type": "code",
   "execution_count": 4,
   "metadata": {},
   "outputs": [
    {
     "name": "stderr",
     "output_type": "stream",
     "text": [
      "[nltk_data] Downloading package punkt to\n",
      "[nltk_data]     C:\\Users\\gaura\\AppData\\Roaming\\nltk_data...\n",
      "[nltk_data]   Package punkt is already up-to-date!\n"
     ]
    }
   ],
   "source": [
    "import requests\n",
    "from bs4 import BeautifulSoup\n",
    "import pandas as pd\n",
    "import re\n",
    "import nltk\n",
    "from nltk.corpus import stopwords\n",
    "nltk.download('punkt')\n",
    "from gensim.models import Word2Vec"
   ]
  },
  {
   "cell_type": "markdown",
   "metadata": {},
   "source": [
    "### Defining the functions:"
   ]
  },
  {
   "cell_type": "markdown",
   "metadata": {},
   "source": [
    "The following functions are required to extract the text data from the wikipedia page."
   ]
  },
  {
   "cell_type": "code",
   "execution_count": 5,
   "metadata": {},
   "outputs": [],
   "source": [
    "def initResp(url):\n",
    "    response = requests.get(url)\n",
    "    return response"
   ]
  },
  {
   "cell_type": "code",
   "execution_count": 6,
   "metadata": {},
   "outputs": [],
   "source": [
    "def titleExtractor(soup):\n",
    "    title = soup.find('title')\n",
    "    return title.string\n",
    "\n",
    "def contextExtractor(soup):\n",
    "    context = \" \"\n",
    "    for i in soup.select('p'):\n",
    "        context = context + i.getText()\n",
    "    return context"
   ]
  },
  {
   "cell_type": "markdown",
   "metadata": {},
   "source": [
    "The following function is used to delete the stopwords present in a sentence."
   ]
  },
  {
   "cell_type": "code",
   "execution_count": 7,
   "metadata": {},
   "outputs": [],
   "source": [
    "def stopWordDel(text):\n",
    "    stop_words = set(stopwords.words('english'))\n",
    "    filteredSent = \" \"\n",
    "    pageWord = text.split()\n",
    "    for r in pageWord:\n",
    "        if not r in stop_words:\n",
    "            filteredSent = filteredSent + \" \" + r\n",
    "    return filteredSent"
   ]
  },
  {
   "cell_type": "markdown",
   "metadata": {},
   "source": [
    "extractText function makes use of the above functions and extracts the text data from the wikipedia page. Before returning the text data it preprocesses the data and removes all the special characters present in the data, numeric characters present in the data and splits the text data into sentences."
   ]
  },
  {
   "cell_type": "code",
   "execution_count": 11,
   "metadata": {},
   "outputs": [],
   "source": [
    "def extractText(url):\n",
    "    sentTemp = \" \"\n",
    "    response=initResp(url)\n",
    "    soup = BeautifulSoup(response.content, 'html.parser')\n",
    "    title = titleExtractor(soup)\n",
    "    context = contextExtractor(soup)\n",
    "    res = stopWordDel(context.lower())\n",
    "    for k in res.split(\"\\n\"):\n",
    "        final = \" \".join(re.findall(r\"[a-zA-Z0-9.-]+\", k))\n",
    "        sentTemp = sentTemp +\" \"+ final\n",
    "    sentenceList = nltk.tokenize.sent_tokenize(sentTemp)\n",
    "    sentenceList = [nltk.word_tokenize(sent) for sent in sentenceList]\n",
    "    return sentenceList"
   ]
  },
  {
   "cell_type": "markdown",
   "metadata": {},
   "source": [
    "### Defining the word2vec computation function:"
   ]
  },
  {
   "cell_type": "markdown",
   "metadata": {},
   "source": [
    "The url of the required wikipedia page is passed to the function. This url is then passed to the extractText function which returns a list of sentences on which the word2vec computations can be applied. computeWord2vec function performs those computations and returns the result model."
   ]
  },
  {
   "cell_type": "code",
   "execution_count": 12,
   "metadata": {},
   "outputs": [],
   "source": [
    "def computeWordVec(url):\n",
    "    sentenceList = extractText(url)\n",
    "    model = Word2Vec(sentenceList,min_count=1)\n",
    "    words = list(model.wv.index_to_key)\n",
    "    return model"
   ]
  },
  {
   "cell_type": "markdown",
   "metadata": {},
   "source": [
    "### End Results:"
   ]
  },
  {
   "cell_type": "markdown",
   "metadata": {},
   "source": [
    "The url of a wikipedia article about genocide is passed as an argument to the computeWordVec function. The model returned is stored in wordvecModel. "
   ]
  },
  {
   "cell_type": "code",
   "execution_count": 17,
   "metadata": {},
   "outputs": [],
   "source": [
    "wordvecModel = computeWordVec('https://en.wikipedia.org/wiki/Genocide')"
   ]
  },
  {
   "cell_type": "markdown",
   "metadata": {},
   "source": [
    "Lets see the list of words that are present in the text data."
   ]
  },
  {
   "cell_type": "code",
   "execution_count": 18,
   "metadata": {},
   "outputs": [
    {
     "name": "stdout",
     "output_type": "stream",
     "text": [
      "['.', 'genocide', 'group', 'international', 'crimes', 'groups', 'states', 'united', 'also', 'convention', 'part', 'political', 'destruction', 'act', 'found', 'war', 'acts', 'court', 'intent', 'crime', 'law', 'national', 'security', 'committed', 'violence', 'criminal', 'mass', 'killings', 'defined', 'people', 's', 'council', 'definition', 'humanity', 'nations', 'term', 'courts', 'may', 'cppcg', 'state', 'destroy', 'prohibited', 'perpetrator', 'genocides', 'government', 'icty', 'members', 'two', 'whole', 'legal', 'world', 'meaning', 'human', 'guilty', 'physical', 'darfur', 'former', 'time', 'the', 'including', 'lemkin', 'ethnic', 'sexual', 'racial', 'killing', 'icc', 'noted', 'tribunal', 'first', 'nazi', 'would', 'resolution', 'armenian', 'ictr', 'religious', 'un', 'mental', 'substantial', 'rape', 'targeted', 'history', 'yugoslavia', 'chamber', 'perpetrators', 'adopted', 'include', 'protected', 'social', 'however', 'word', 'murder', 'serious', 'children', 'bosnian', 'could', 'genocidal', 'new', 'intended', 'trial', 'prosecution', 'trials', 'bosnia', 'charges', 'german', 'religion', 'scholars', 'taken', 'april', 'holocaust', 'men', 'that', 'deaths', 'conditions', 'example', '3', '1948', 'victims', 'coined', 'identified', 'soviet', 'case', 'echr', 'many', 'general', 'terms', 'europe', 'torture', 'permanent', 'three', 'enough', '11', '2007', '12', 'countries', 'leaders', 'harm', 'held', 'since', 'number', 'forces', 'harff', 'july', 'whether', 'jonassohn', 'right', 'specific', 'causing', 'necessary', 'presented', 'several', 'estimated', 'judges', 'ii', 'rather', '44', '8', 'others', 'in', 'life', 'germany', 'considered', 'within', 'element', 'cases', 'order', 'events', 'must', 'january', 'came', '1995', 'still', 'recognized', 'republic', 'sudan', 'different', 'such', 'later', 'following', 'constitute', 'victim', 'rwanda', 'srebrenica', 'argues', 'defines', 'prevention', '28', 'punishment', 'race', 'denial', 'women', 'result', 'primarily', 'rwandan', 'member', 'bodily', 'december', 'follow', 'generally', 'majority', 'measures', 'issued', 'nation', 'view', 'individuals', 'occupied', 'citation', 'one', 'stages', 'among', 'commission', 'book', '9', 'due', 'imposed', 'president', 'subject', 'much', 'prosecutor', '2008', 'march', 'size', 'five', '2004', 'place', 'took', 'accused', '10', 'china', 'v.', 'european', '14', 'akayesu', 'herzegovina', 'rapes', 'laws', 'psychological', 'report', 'suggested', 'judgement', 'used', 'forcibly', 'make', '2006', 'another', 'without', 'needed', 'appeal', 'charge', 'included', '1946', 'provided', '24', 'nuremberg', 'early', 'consider', 'way', 'situation', 'serb', 'perpetrated', 'evidence', 'commit', 'daesh', 'boys', 'prosecute', 'often', 'fourth', 'assembly', 'examples', 'requirement', 'ordinary', 'conflict', 'committing', 'cleansing', '2005', 'rights', 'typically', 'narrow', 'treaty', 'carried', 'focus', 'municipal', 'third', 'justice', 'interpretation', 'well', 'lead', 'account', 'similar', 'radislav', 'support', 'identity', 'inquiry', '2001', 'appeals', 'issue', 'decision', 'bj', 'rnson', 'circumstances', '26', 'entire', 'signatories', 'cultural', 'occurred', '1951', 'incorporated', 'statute', 'article', '...', 'complicity', 'provisions', 'ethnicity', 'definitions', 'characteristics', 'leading', 'prevent', '1979', 'difficult', 'common', 'second', 'objective', 'gurr', 'century', 'rummel', 'fact', 'william', 'although', 'warrant', 'paper', 'preventing', 'plan', 'rouge', 'khmer', 'stanton', 'essential', 'established', 'becomes', 'latin', 'existence', 'greek', 'combination', '1', 'rule', 'modern', 'membership', 'punished', '4', 'as', 'charged', '6', 'force', '13', 'a', 'prosecutors', 'omar', 'al-bashir', 'total', '50', 'million', 'judgment', 'individual', 'require', 'imprisonment', 'mladi', 'sentenced', 'intentional', 'arrest', 'raphael', 'instances', 'karad', 'tried', 'i', 'r.', '40', 'use', 'chalk', '59', 'exclusion', 'period', 'j.', 'historical', 'jewish', 'control', 'barbara', 'asked', 'ted', 'professor', 'philippines', 'periods', '30', 'modes', 'accepted', 'implementation', 'policies', '1998', 'kurt', 'structure', 'refers', 'earlier', 'stated', 'overall', 'addition', 'portion', 'talat', 'deprivation', 'or', '31', 'normal', 'finding', '69', '7', 'create', 'participating', 'possible', 'years', 'requisite', 'communal', '109', 'nationality', 'analysis', 'exclusively', 'politicides', 'drafters', 'position', 'yazidi', 'slavery', 'feared', 'inflicted', 'conceptions', 'argued', 'past', '27', 'distinction', 'mean', 'victimized', 'when', 'factors', 'removal', 'verdict', 'prosecutions', 'forcible', 'establish', 'deportation', 'debate', '1982', 'hague', 'jurisdiction', 'exercise', 'opposition', 'coi', '5', 'syrian', 'eight', 'execution', 'failed', 'schabas', 'transfer', 'systematic', 'describes', 'ending', 'which', '2016', 'families', 'indigenous', 'peoples', 'origin', 'senior', 'describing', 'serbia', 'languages', 'words', 'single', 'cultures', 'reproduction', 'land', 'qualify', 'governments', 'lit', 'biological-physical', 'schools', 'boarding', 'detention', 'names', 'krstic', 'discussion', 'signify', 'it-98-33', 'icj', 'widely', 'thereby', 'transferred', 'using', '18', 'death', '43', 'various', '38', 'paragraphs', 'reported', 'addressed', 'counts', 'broader', 'parties', 'polish', 'starting', 'policy', 'purpose', 'pursued', 'numeric', 'elite', '80', 'minimum', 'cause', 'medical', 'list', 'relation', 'and', 'point', 'to', 'homes', 'though', '19', 'burma', '118', 'factor', 'france', 'union', 'find', 'conclusion', 'collapse', 'continue', '1992', 'paragraph', 'jorgic', 'invasion', 'arrested', 'lack', 'name', 'ancient', 'directly', 'implemented', 'regarding', 'responsibility', 'protect', 'populations', 'instead', 'i.e', 'ussr', 'murders', 'department', 'themselves', 'unwilling', '129', 'develops', 'prosecuted', 'shortly', 'taking', 'ten', 'immediate', 'formally', 'nevertheless', 'initial', 'language', 'original', 'agreement', 'discrimination', 'theory', 'tribunals', 'according', 'reached', 'show', 'subjective', 'brought', 'markers', 'deliberately', 'actions', 'action', 'throughout', 'distinct', 'deliberate', 'immunity', 'grant', 'briefing', 'minister', 'successfully', 'illegal', 'aim', 'less', 'territories', 'genos', '2009', 'jorgi', 'armenians', 'turks', '22', 'ottoman', 'yet', '2', 'usually', 'involved', 'emerged', 'actus', 'reus', '21', '20', 'axis', 'preamble', 'november', '1944', 'conviction', 'nikola', 'persons', '1994', 'him', 'economic', 'convicted', 'work', 'punish', 'girls', 'based', 'massacre', 'rohingya', 'constituted', 'even', 'wider', 'territory', 'belonging', 'claimed', 'burmese', 'directed', 'except', 'resulting', 'come', 'includes', '104', 'made', 'rome', 'great', 'losses', 'form', 'amount', 'legislation', 'thus', '000', 'confusion', 'homicide', 'created', 'destroyed', 'unable', 'implement', 'raped', '2003', 'cambodia', 'cambodian', 'power', 'effect', 'potential', 'non-state', 'actors', '21st', 'multiple', 'etc', 'gang', 'commonly', 'compromise', 'diplomatic', 'removed', 'perceived', 'practice', 'namely', 'ethnical', 'particular', 'applied', 'range', 'births', '1975', 'changing', 'transferring', 'authorities', 'bring', 'episodes', 'indicate', 'significant', 'displaced', 'opportunity', 'historically', 'citizenship', 'impact', 'clear', 'alone', 'goes', 'details', 'can', 'viewed', 'turned', 'standard', 'hybrid', 'if', 'answer', 'stable', 'withholding', 'stigmatization', 'identities', '37', 'outlined', 'august', 'inform', 'real', 'requiring', 'geno-cide', 'icty8', 'isolating', 'four', 'chose', 'unhcr', 'attributes', 'seek', 'opinions', '1956', 'instability', 'activity', 'practices', 'appearance', 'area', 'suggest', 'opted', 'task', 'differences', '41', 'evaluated', 'population', 'absolute', 'prominence', 'useful', 'determining', 'establishes', 'consideration', 'access', 'emblematic', 'survival', 'raise', 'imposing', 'living', 'qualifies', 'of', 'mix', 'criteria', 'innate', 'construct', '-caedo', 'respected', 'commentators', 'explain', 'understood', 'born', 'definitive', 'randomly', '42', 'indistinguishable', '39', 'limited', 'determination', 'physically', 'conflicts', 'always', 'formed', 'meet', 'reach', 'tutsis', 'hutus', 'involve', 'considerations', 'extent', 'important', 'unlikely', 'change', 'suffix', 'knowledge', '36', 'humanitarian', 'conscience', 'shocks', 'beings', 'live', 'speaking', 'necessarily', 'accomplished', 'coordinated', 'full', 'provide', 'but', 'enumerated', 'affirmed', 'session', 'forbidding', 'defining', 'aiming', 'acceptance', 'universal', 'campaigned', 'foundations', 'prior', 'annihilating', 'irvin-erickson', 'douglas', 'mankind', 'results', 'infanticide', 'corresponding', 'greater', 'follows', 'etymology', 'author', 'denote', 'objections', 'old', 'draft', 'development', 'tribe', 'tide', 'internationally', 'contributions', 'contains', 'iii', '260', 'formation', 'tyrannicide', 'part.the', 'entirely', 'aims', 'spirit', 'contrary', 'represented', 'scientist', 'borders', 'objectives', 'york', 'arthur', 'so-called', 'entity', 'formal', 'descriptive', 'solely', '1945', 'indictments', 'capacity', 'fastened', 'times', 'wrote', 'amon', 'kaempffert', 'waldemar', 'framework', 'conceptual', 'notes', 'germanization', 'like', 'phrases', 'inadequacy', 'revealed', 'community', 'greiser', 'leopold', 'disintegration', 'flock', 'believed', 'institutions', 'culture', '1959', 'late', '25', 'trespassing', 'interfere', 'business', 'kills', 'chickens', 'owns', 'lives', 'farmer', 'feelings', 'told', 'personal', 'liberty', 'health', 'sovereign', '23', 'dignity', 'judgments', 'goth', 'scrutiny', '29', 'invite', 'aware', 'jstwo', '1941', 'winston', 'churchill', 'spoke', 'distinguishing', 'g', 'core', '32', 'course', 'occur', 'nos', 'physical-biological', 'consequence', 'consequences', 'caedere', 'conduct', 'engage', 'kill', 'negligence', 'recklessness', 'cites', 'reading', 'specialis', 'meant', 'opinion', '1921', 'ways', 'value', 'phrase', '35', 'previous', 'adhered', 'supreme', 'rwabukombe', 'onesphore', '34', 'epitome', 'evil', 'type', 'minority', 'there', 'broad', 'apart', 'agreed', 'already', 'judgements', 'v', 'reviewed', '33', 'lkermord', 'ludob', 'dolus', 'assassination', 'intervention', 'impression', 'lebanon', 'denominator', 'geographic', '15', '16', 'explained', 'shared', 'views', 'machination', 'inclusion', 'literature', 'popular', 'brazil', 'confirm', 'fails', 'travaux', 'examination', 'rigorous', 'scholar', 'lawyer', 'thought', '17', 'politics', 'domestic', 'sweden', 'peru', 'elements', 'organization', 'rea', 'mens', 'pasha', 'prosecutable', 'inchoate', 'separate', 'incitement', 'nature', 'vision', 'corresponded', 'congress', 'non-governmental', 'venezuela', 'promoted', 'originally', 'main', 'architect', 'uruguay', 'belgium', 'egypt', 'iran', 'soghomon', 'tehlirian', 'dominican', 'moral', '134', 'massacre-style', 'twenty-seven', 'responsible', 'violations', 'performed', 'citizens', 'nearby', '1994.', 'far', 'finished', 'nineteen', 'twenty-five', 'resort', 'twenty-one', 'awaiting', 'added', '2009.', 'large', '101', 'jean-paul', 'began', '1997.', 'judge', 'commencing', 'offenses', 'auspices', 'milo', 'evi', 'figure', 'stand', 'died', 'returned', 'serbs', 'radovan', 'ratko', 'belgrade', '96', '97', '98', '2011', 'lazarevo', '99', 'delivered', '2017', '100', 'october', 'jean', 'kambanda', 'officials', 'sworn', '105', '106', 'related', 'vietnamese', 'cham', 'minorities', 'tens', 'thousand', 'possibly', 'more', '107', '108', 'investigating', 'suspects', 'disagreement', 'jurists', '2002', 'investigate', '103', 'eccc', 'interim', 'chambers', 'prime', 'pleaded', 'led', 'pol', 'pot', 'ta', 'mok', 'organized', 'ideologically', 'suspect', 'approximately', '1.7', 'cambodians', 'slave', 'labour', '102', 'june', 'set', 'extraordinary', 'slobodan', 'see', 'lost', '86', 'indictment', 'count', 'conducted', 'extermination', 'against', 'civilian', 'certain', 'races', 'classes', 'particularly', 'jews', 'poles', 'gypsies', '87', 'refer', 'either', '88', 'elsewhere', '89', 'appeared', 'recently', '90', 'existing', 'ethics', 'standing', 'reservations', 'invoked', 'refused', 'allow', '1999', 'kosovo', '85', 'least', 'customary', 'peremptory', 'norm', 'conventional', 'chain', 'accountability', 'function', 'incapable', 'magnitude', 'judged', 'february', 'abetting', 'spite', '95', 'indicted', '1990s', 'date', 'plea', 'bargains', 'convictions', 'challenged', 'vujadin', 'popovi', 'ljubi', 'beara', 'zdravko', 'tolimir', 'conspiracy', 'krsti', 'drago', 'nikoli', 'aiding', 'municipalities', 'regard', 'upheld', 'with', 'zepa', 'serbian', 'participated', '91', 'dismissing', 'rejected', 'considering', '92', '93', '94', 'amongst', 'expel', 'muslims', 'croats', 'considerable', 'momcilo', 'krajisnik', 'met', 'prijedor', 'last', 'leaving', 'cyprus', 'gregory', 'crackpots', '127', 'study', 'risk', 'underway', 'conference', 'papers', '128', '1996', 'watch', 'primary', 'called', 'predictable', 'inexorable', '130', 'preventative', 'given', 'target', 'audience', 'indirectly', 'agitators', 'unknown', 'minds', 'existed', 'age', 'totalitarianism', 'nearly', 'infamous', 'headed', 'comprising', 'purges', 'communist', 'allies', '1915.', 'slaughters', 'here', 'central', 'eastern', 'southern', 'surely', 'neither', 'communism', 'fascism', 'influence', '2012', 'soon', 'wounds', 'systems', 'passivity', 'internal', 'external', 'witnesses', 'bystanders', 'contribute', 'probability', '132', 'intense', 'unresolved', 'intractable', 'violent', '133', 'dirk', 'moses', 'criticised', 'studies', 'poor', 'authoritarian', 'devaluation', 'officially', 'enemy', 'adding', 'persecution', '10-stage', '131', 'authors', 'focused', 'structural', 'processes', 'evolution', 'toward', 'ervin', 'staub', 'showed', 'deterioration', 'disorganization', 'points', 'increasing', 'scapegoating', 'ideologies', 'parts', 'back', 'traced', 'committee', 'done', 'so', 'authorized', '1564', 'secretary-general', 'stating', 'cautioned', 'militias', 'detracting', 'gravity', 'region', 'offences', 'heinous', 'referred', 'mentioning', '119', 'abstained', 'vote', 'referral', '117', 'relations', 'reasonable', 'foreign', 'alleged', 'criminals', 'concerns', 'prefers', 'specially', 'convened', 'investigations', '115', 'categorizing', '116', 'ongoing', 'started', 'declared', 'secretary', 'colin', 'powell', 'september', 'testimony', 'senate', '120', 'grounds', '20th-century', '123', 'panel', 'issuing', '124', 'concept', 'at', 'revisionist', 'attempts', 'challenge', 'affirm', 'claims', 'ban', 'turkey', 'referring', 'greeks', 'assyrians', 'maronites', '301', '126', 'rubinstein', 'changed', 'head', 'believe', 'concluded', '1593', 'sufficient', '121', 'warrants', 'interior', 'ahmad', 'harun', 'militia', 'janjaweed', 'leader', 'ali', 'kushayb', '122', 'filed', 'masterminded', 'tribal', 'al', 'bashir', 'pre-trial', 'norway', 'notably', 'contemplated', 'involuntary', 'exertion', 'resources', 'fit', 'aimed', 'regenerating', 'encompasses', 'affecting', 'intimate', 'relationships', 'sterilization', '63', 'forced', 'abortion', 'prohibition', 'marriage', 'long-term', 'separation', 'procreation', 'violate', 'bases', 'excessive', 'care', 'hygiene', 'clothing', 'water', 'razing', 'communities', 'guidance', 'constitutes', 'violation', 'subjecting', 'subsistence', 'diet', 'expulsion', 'reduction', 'services', '60', 'rising', 'kayishema', 'ruzindana', 'extended', 'proper', 'housing', 'impregnate', 'forcing', 'carry', 'chattel', 'direct', 'coercion', 'threats', 'duress', 'white', 'adoptive', 'assimilate', 'americas', 'commonplace', 'canada', 'nineteenth', 'twentieth', 'centuries', 'adoptions', 'means', 'strip', 'ceremonies', 'service', 'missions', 'played', 'treated', 'child', 'converted', 'societies', 'determined', 'patrilineal', 'person', 'subsequently', 'refuses', 'procreate', 'trauma', '61', 'accordingly', 'take', 'final', 'biological', 'unit', 'occurs', 'converting', 'labor', 'soldiers', '62', 'sinjar', 'mount', 'siege', 'jurisprudence', 'executions', 'quickly', 'extreme', 'falling', 'settled', 'provision', 'posited', 'successful', 'infliction', 'calculated', 'encompass', 'wide', 'non-fatal', '51', 'landmark', 'resulted', '52', 'hallmark', 'campaigns', 'shows', '49', 'implicitly', 'burning', 'significantly', 'present', 'near-uniform', 'pattern', 'adolescent', 'singled', 'yazidis', '45', 'attack', '46', 'attacks', '47', 'fast', 'gunshot', '48', 'likely', 'die', 'slower', 'slashing', 'explicitly', 'sanctioning', 'marches', 'family', 'enslavement', 'record', 'rise', 'level', '58', 'distinguished', 'pass', 'prolonged', 'longer', 'actual', 'achieved', 'duration', 'horrors', 'concentration', 'camps', 'ensure', 'never', 'again', 'apply', '57', 'watching', 'it', 'experiencing', '250', '500', 'months', 'subjected', '53', 'systemic', 'campaign', 'mutilation', 'out', '54', 'public', '55', 'documented', '56', 'ordinarily', 'cruel', 'inhuman', 'degrading', 'treatment', 'erase', 'became', 'protests', 'persists', 'jr.', 'we', 'pogroms', 'short-lived', 'outbursts', 'mobs', 'condoned', 'rarely', 'persist', 'long', 'ratified', 'condonation', 'collapses', '81', 'meanings', 'non-killings', 'end', 'eliminate', 'generalized', 'opponents', 'kates', 'b.', 'polsby', 'd.', 'turn', 'ethiopia', '73', '74', 'spain', '75', '76', 'legitimate', 'anti-genocide', 'promotion', 'agents', '77', 'differentiate', 'hierarchical', 'regime', 'dominant', '78', '79', 'daniel', 'otherwise', 'avoid', 'democide', 'beyond', 'required', 'peace', 'wartime', 'barriers', 'enforcement', 'bahrain', 'bangladesh', 'india', 'malaysia', 'singapore', 'vietnam', 'yemen', 'signed', 'proviso', 'claim', 'consent', '84', 'despite', 'official', 'classified', 'broadens', '82', 'destroying', 'highlighting', 'acquiring', 'weapons', 'adrian', 'gallagher', 'source', 'collective', 'intentionally', 'uses', 'base', 'process', 'dependent', 'upon', 'relative', '83', 'upholds', 'centrality', 'multidimensional', 'understanding', '72', 'intends', 'authority', '1820', 'constitutive', 'respect', '66', 'passed', 'incorporates', '67', 'body', 'recommended', 'whitaker', 'monitor', 'reports', 'compliance', 'optional', 'protocol', 'effective', '68', 'writing', 'karin', 'instrument', 'forms', '65', 'suitable', 'armed', '1954', 'kingdom', '1970', '1983', 'having', 'replaced', 'taiwan-based', 'unsc', '1971', '1988.', '1674', 'reaffirms', '138', '139', 'summit', 'outcome', 'document', '64', 'civilians', 'wording', 'research', 'one-sided', 'recent', 'concentrated', '20th', 'helen', 'fein', 'looked', 'post', 'targets', 'criticized', 'historians', 'sociologists', 'm.', 'hassan', 'kakar', 'afghan', 'response', '70', 'restricted', '71', 'quotes', 'works', 'kuper', 'tool', 'leo', 'credibility', 'postulated', 'go', 'say', 'none', 'alternative', 'gained', 'widespread', 'reasons', 'postulate', 'major', 'reason', 'academics', 'adjusted', 'emphasise', 'expedient', 'slightly', 'frank', 'studied', 'indoctrination']\n"
     ]
    }
   ],
   "source": [
    "wordList = list(wordvecModel.wv.index_to_key)\n",
    "print(wordList)"
   ]
  },
  {
   "cell_type": "markdown",
   "metadata": {},
   "source": [
    "Each word vector can also be viewed from the whole list of vectors. We have shown the vector of the word genocide"
   ]
  },
  {
   "cell_type": "code",
   "execution_count": 19,
   "metadata": {},
   "outputs": [
    {
     "name": "stdout",
     "output_type": "stream",
     "text": [
      "[-0.00922914  0.00783873  0.00693014  0.00673459  0.00865875 -0.01228166\n",
      "  0.00232302  0.01494115 -0.00455364 -0.00733094 -0.00148998 -0.01292785\n",
      " -0.00578915  0.00813004  0.00401548  0.00491152  0.00865322  0.00411797\n",
      " -0.00339695 -0.00874535  0.00507737 -0.00398073  0.01011117 -0.01319152\n",
      "  0.00595191  0.00287416 -0.00848876  0.00098298 -0.00330236  0.0088836\n",
      "  0.01414453 -0.00515339 -0.00018507 -0.00844608  0.00384222  0.00743113\n",
      "  0.00654742  0.0020772   0.00895091  0.00191753  0.00746454 -0.01101854\n",
      " -0.00936984 -0.00033092 -0.00033301  0.00601003  0.00324676 -0.0026705\n",
      "  0.00246428  0.0045684   0.00891352 -0.01223331 -0.00302037  0.00404008\n",
      " -0.00206461  0.01197167  0.01209839  0.00606244 -0.00343676  0.00810687\n",
      " -0.00885306  0.00440942 -0.00588911 -0.00562938 -0.00120342  0.00899931\n",
      "  0.00931194 -0.00458581  0.00400091  0.01172251 -0.00727017 -0.01018899\n",
      "  0.00890896  0.00548624  0.00222728 -0.00566634 -0.00755401 -0.00297641\n",
      "  0.00075287 -0.00225332 -0.00982231  0.00402269  0.00198988 -0.00062259\n",
      "  0.00281854 -0.00181488 -0.00077684 -0.00470387  0.00736452 -0.00430895\n",
      "  0.00612794 -0.00055315  0.00164065 -0.0069559   0.00230756  0.00558488\n",
      "  0.0079002  -0.00693607 -0.00897008  0.004399  ]\n"
     ]
    }
   ],
   "source": [
    "vector = samMod.wv['genocide']\n",
    "print(vector)"
   ]
  },
  {
   "cell_type": "markdown",
   "metadata": {},
   "source": [
    "We can also view which words are similar according to the computation. This similarity accuracy increases with the size of text data."
   ]
  },
  {
   "cell_type": "code",
   "execution_count": 21,
   "metadata": {},
   "outputs": [
    {
     "name": "stdout",
     "output_type": "stream",
     "text": [
      "[('narrow', 0.35746774077415466), ('subsequently', 0.34189215302467346), ('croats', 0.3365311324596405), ('intent', 0.31915900111198425), ('meaning', 0.30031225085258484), ('1593', 0.29207584261894226), ('necessary', 0.28890135884284973), ('intimate', 0.28564026951789856), ('killings', 0.28326547145843506), ('court', 0.2792111933231354)]\n"
     ]
    }
   ],
   "source": [
    "similar = wordvecModel.wv.most_similar('genocide')\n",
    "print(similar)"
   ]
  }
 ],
 "metadata": {
  "kernelspec": {
   "display_name": "Python 3",
   "language": "python",
   "name": "python3"
  },
  "language_info": {
   "codemirror_mode": {
    "name": "ipython",
    "version": 3
   },
   "file_extension": ".py",
   "mimetype": "text/x-python",
   "name": "python",
   "nbconvert_exporter": "python",
   "pygments_lexer": "ipython3",
   "version": "3.7.6"
  }
 },
 "nbformat": 4,
 "nbformat_minor": 4
}
