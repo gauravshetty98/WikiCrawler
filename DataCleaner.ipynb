{
 "cells": [
  {
   "cell_type": "code",
   "execution_count": 20,
   "metadata": {},
   "outputs": [],
   "source": [
    "import random\n",
    "import pandas as pd\n",
    "import time\n",
    "import csv\n",
    "import re"
   ]
  },
  {
   "cell_type": "code",
   "execution_count": 21,
   "metadata": {},
   "outputs": [],
   "source": [
    "#fileName = \"dataFile\""
   ]
  },
  {
   "cell_type": "markdown",
   "metadata": {},
   "source": [
    "readFile function reads the csv file and stores the data in the file in a pandas DataFrame.\n",
    "lowerOnly function converts all the characters in the string into lowercase characters.\n",
    "alphaCharOnly function removes all the special characters in the string leaving only alphanumeric characters."
   ]
  },
  {
   "cell_type": "code",
   "execution_count": 22,
   "metadata": {},
   "outputs": [],
   "source": [
    "def readFile(fileName):\n",
    "    data = pd.read_csv(fileName, header = None)\n",
    "    return data\n",
    "\n",
    "def lowerOnly(data):\n",
    "    for i in range (0,99):\n",
    "        data.iloc[i,0] = data.iloc[i,0].lower()\n",
    "        data.iloc[i,1] = data.iloc[i,1].lower()\n",
    "        #print(i)\n",
    "        \n",
    "def alphaCharOnly(data):\n",
    "    for j in range (0,99):\n",
    "        strTitleTemp = \" \"\n",
    "        for k in data.iloc[j,0].split(\"\\n\"):\n",
    "            final = \" \".join(re.findall(r\"[a-zA-Z0-9]+\", k))\n",
    "            strTitleTemp = strTitleTemp +\" \"+ final\n",
    "        data.iloc[j,0] = strTitleTemp\n",
    "        strContTemp = \" \"\n",
    "        for k in data.iloc[j,1].split(\"\\n\"):\n",
    "            final = \" \".join(re.findall(r\"[a-zA-Z0-9]+\", k))\n",
    "            strContTemp = strContTemp +\" \"+ final\n",
    "        data.iloc[j,1] = strContTemp\n",
    "        #print(j)\n",
    "        "
   ]
  },
  {
   "cell_type": "markdown",
   "metadata": {},
   "source": [
    "cleaner function calls all three functions "
   ]
  },
  {
   "cell_type": "code",
   "execution_count": 23,
   "metadata": {},
   "outputs": [],
   "source": [
    "def cleaner(fileName):\n",
    "    data = readFile(fileName)\n",
    "    lowerOnly(data)\n",
    "    alphaCharOnly(data)\n",
    "    return data"
   ]
  },
  {
   "cell_type": "code",
   "execution_count": 24,
   "metadata": {},
   "outputs": [],
   "source": [
    "#newData = cleaner(fileName)"
   ]
  }
 ],
 "metadata": {
  "kernelspec": {
   "display_name": "Python 3",
   "language": "python",
   "name": "python3"
  },
  "language_info": {
   "codemirror_mode": {
    "name": "ipython",
    "version": 3
   },
   "file_extension": ".py",
   "mimetype": "text/x-python",
   "name": "python",
   "nbconvert_exporter": "python",
   "pygments_lexer": "ipython3",
   "version": "3.7.6"
  }
 },
 "nbformat": 4,
 "nbformat_minor": 4
}
