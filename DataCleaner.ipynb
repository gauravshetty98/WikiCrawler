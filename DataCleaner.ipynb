{
 "cells": [
  {
   "cell_type": "markdown",
   "metadata": {},
   "source": [
    "# Pre-processing the raw data."
   ]
  },
  {
   "cell_type": "markdown",
   "metadata": {},
   "source": [
    "It is necessary to preprocess the raw data before working on it. Here we convert all the characters into lowercase characters and remove any special characters present in the data. We start of with importing different libraries required. Different functions are then defined with each function having a specific task. Cleaner function is defined at the end which cleans the raw data using all the previously defined functions."
   ]
  },
  {
   "cell_type": "code",
   "execution_count": 1,
   "metadata": {},
   "outputs": [],
   "source": [
    "import random\n",
    "import pandas as pd\n",
    "import time\n",
    "import csv\n",
    "import re"
   ]
  },
  {
   "cell_type": "markdown",
   "metadata": {},
   "source": [
    "readFile function reads the csv file and stores the data in the file in a pandas DataFrame.\n",
    "lowerOnly function converts all the characters in the string into lowercase characters.\n",
    "alphaCharOnly function removes all the special characters in the string leaving only alphanumeric characters."
   ]
  },
  {
   "cell_type": "code",
   "execution_count": 3,
   "metadata": {},
   "outputs": [],
   "source": [
    "def readFile(fileName):\n",
    "    data = pd.read_csv(fileName, header = None)\n",
    "    return data\n",
    "\n",
    "def lowerOnly(data):\n",
    "    for i in range (0,len(data.index)):\n",
    "        data.iloc[i,0] = data.iloc[i,0].lower()\n",
    "        data.iloc[i,1] = data.iloc[i,1].lower()\n",
    "        #print(i)\n",
    "        \n",
    "def alphaCharOnly(data):\n",
    "    for j in range (0,len(data.index)):\n",
    "        strTitleTemp = \" \"\n",
    "        for k in data.iloc[j,0].split(\"\\n\"):\n",
    "            final = \" \".join(re.findall(r\"[a-zA-Z0-9.-]+\", k))\n",
    "            strTitleTemp = strTitleTemp +\" \"+ final\n",
    "        data.iloc[j,0] = strTitleTemp\n",
    "        strContTemp = \" \"\n",
    "        for k in data.iloc[j,1].split(\"\\n\"):\n",
    "            final = \" \".join(re.findall(r\"[a-zA-Z0-9.-]+\", k))\n",
    "            strContTemp = strContTemp +\" \"+ final\n",
    "        data.iloc[j,1] = strContTemp\n",
    "        #print(j)\n",
    "        "
   ]
  },
  {
   "cell_type": "markdown",
   "metadata": {},
   "source": [
    "cleaner function calls all three functions "
   ]
  },
  {
   "cell_type": "code",
   "execution_count": 4,
   "metadata": {},
   "outputs": [],
   "source": [
    "def cleaner(fileName):\n",
    "    data = readFile(fileName)\n",
    "    lowerOnly(data)\n",
    "    alphaCharOnly(data)\n",
    "    return data"
   ]
  }
 ],
 "metadata": {
  "kernelspec": {
   "display_name": "Python 3",
   "language": "python",
   "name": "python3"
  },
  "language_info": {
   "codemirror_mode": {
    "name": "ipython",
    "version": 3
   },
   "file_extension": ".py",
   "mimetype": "text/x-python",
   "name": "python",
   "nbconvert_exporter": "python",
   "pygments_lexer": "ipython3",
   "version": "3.7.6"
  }
 },
 "nbformat": 4,
 "nbformat_minor": 4
}
